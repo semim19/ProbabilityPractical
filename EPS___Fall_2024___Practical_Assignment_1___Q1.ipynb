{
 "cells": [
  {
   "cell_type": "markdown",
   "id": "4260611b-2c06-4861-8c4b-aee9bd5158f5",
   "metadata": {
    "id": "4260611b-2c06-4861-8c4b-aee9bd5158f5"
   },
   "source": [
    "<div style=\"direction:rtl;line-height:300%;\">\n",
    "\t<font face=\"XB Zar\" size=5>\n",
    "\t\t<div align=center>\n",
    "\t\t\t<font color=#3BEBBC>\n",
    "دانشگاه صنعتی شریف - دانشکده مهندسی کامپیوتر\n",
    "            </font>\n",
    "\t\t\t<p></p>\n",
    "\t\t\t<font color=ECC19C>\n",
    "آمار و احتمال مهندسی- دکتر نجفی\n",
    "            </font>\n",
    "\t\t\t<br />\n",
    "\t\t\t<br />\n",
    "پاییز ۱۴۰۳\n",
    "\t\t</div>\n",
    "\t\t<hr/>\n",
    "\t\t<div align=center>\n",
    "\t\t    <font color=#ECC19C size=6>\n",
    "\t\t\t    <br />\n",
    "تمرین عملی اول\n",
    "            \t<br/>\n",
    "\t\t\t</font>\n",
    "            سوالات\n",
    "\t\t\t</br>\n",
    "            <br>\n",
    "        </br>\n",
    "                <font color=#ECC19C>\n",
    "                 طراح نوت‌بوک: ارشیا ایزدیاری\n",
    "\t\t\t\t\t\t\t\t</font>\n",
    "                <br/>\n",
    "\t\t\t\t</br>\n",
    "\t\t\t\t<font color=red>\n",
    "\t\t\t\t\tقبل از ارسال پاسخ‌های خود مطمئن شوید که تمام سوالات تئوری که به شکل \n",
    "  <font face=\"XB Zar\" size=5 color=purple>\n",
    "💥جواب شما\n",
    "</font>\n",
    "مشخص شده‌اند را پاسخ داده‌اید. همچنین تمامی بلوک‌ها اجرا شده‌اند و خروجی آن‌ها وجود دارد. اگر بلوکی را اجرا نکرده باشید نمره آن قسمت به شما تعلق نخواهد گرفت\n",
    "\t\t\t\t</font>\n",
    "\t\t\t\t<br/>\n",
    "        </style>\n",
    "\t</font>\n",
    "</div>"
   ]
  },
  {
   "cell_type": "markdown",
   "id": "AcIdyMfDugpB",
   "metadata": {
    "id": "AcIdyMfDugpB"
   },
   "source": [
    "<ul style=\"list-style-type: none;\">\n",
    "    <li><em>نام و نام‌خانوادگی: محمدمهدی محمدی</em></li>\n",
    "    <li><em>شماره دانشجویی: 402106456</em></li>\n",
    "</ul>\n"
   ]
  },
  {
   "cell_type": "markdown",
   "id": "ea9f577e-ab6e-4c09-894d-f44119e628f7",
   "metadata": {
    "id": "ea9f577e-ab6e-4c09-894d-f44119e628f7"
   },
   "source": [
    "<div dir = \"rtl\" style=\"direction:rtl;line-height:250%;\">\n",
    "\t<font face=\"XB Zar\" size=5>\n",
    "\t\t<font color=#3BEBBC size=6>\n",
    "        سوال اول -\n",
    "        </font>\n",
    "        </font>\n",
    "        <hr/>\n",
    "  </div>"
   ]
  },
  {
   "cell_type": "markdown",
   "id": "c97893bc-33b5-4a83-af94-323828c1c70e",
   "metadata": {
    "id": "c97893bc-33b5-4a83-af94-323828c1c70e"
   },
   "source": [
    "<div dir = \"rtl\" style=\"direction:rtl;line-height:250%;\">\n",
    "  <font face=\"XB Zar\" size=5>\n",
    "در یک نانوایی نرخ ورود مشتری ها به مغازه از یک فرایند پوآسون پیروی کند.\n",
    "</br>\n",
    "\n",
    "\n",
    "</font>\n",
    "</div>"
   ]
  },
  {
   "cell_type": "markdown",
   "id": "b46074f3-2be2-4a0b-8490-4b85380ca570",
   "metadata": {
    "id": "b46074f3-2be2-4a0b-8490-4b85380ca570"
   },
   "source": [
    "<div dir = \"rtl\" style=\"direction:rtl;line-height:200%;\">\n",
    "\t<font face=\"XB Zar\" color=#ECC19C size=5>\n",
    "    الف)\n",
    "    (۱۰ نمره)"
   ]
  },
  {
   "cell_type": "markdown",
   "id": "8349170f",
   "metadata": {
    "collapsed": false,
    "id": "8349170f",
    "jupyter": {
     "outputs_hidden": false
    },
    "pycharm": {
     "name": "#%% md\n"
    }
   },
   "source": [
    "<div dir = \"rtl\" style=\"direction:rtl;line-height:250%;\">\n",
    "  <font face=\"XB Zar\" size=5>\n",
    "فرض کنید در هر ساعت به طور میانگین 4 مشتری وارد مغازه شود. اگر از ورود آخرین مشتری به مغازه 10 دقیقه گذشته باشد. تخمین بزنید مشتری بعدی چند دقیقه بعد وارد مغازه خواهد شد. برای اینکار 10000 بار شبیه سازی انجام دهید ونمودار تعداد مشتری ها در هر دقیقه را رسم کنید.\n",
    "</br>\n",
    "\n",
    "\n",
    "</font>\n",
    "</div>"
   ]
  },
  {
   "cell_type": "markdown",
   "id": "f0f8489a",
   "metadata": {
    "collapsed": false,
    "id": "f0f8489a",
    "jupyter": {
     "outputs_hidden": false
    },
    "pycharm": {
     "name": "#%% md\n"
    }
   },
   "source": [
    "<div dir = \"rtl\" style=\"direction:rtl;line-height:250%;\">\n",
    "  <font face=\"XB Zar\" size=5>\n",
    "راهنمایی: برای شبیه سازی این بخش step های کوچکی در نظر بگیرید ( مثلا هر استپ برابر با 0.01 دقیقه) سپس  احتمال ورود مشتری در این بازه زمانی کوچک را شبیه سازی کنید. در نهایت اگر مشتری در این بازه زمانی آمد مقدار زمانی که سپری شده است را باز گردانید.\n",
    "</br>\n",
    "\n",
    "\n",
    "</font>\n",
    "</div>"
   ]
  },
  {
   "cell_type": "code",
   "execution_count": null,
   "id": "753ae1e5",
   "metadata": {
    "id": "753ae1e5",
    "jupyter": {
     "outputs_hidden": false
    },
    "outputId": "e688db1d-195c-4e19-c2e5-99158330de6a",
    "pycharm": {
     "name": "#%%\n"
    },
    "vscode": {
     "languageId": "r"
    }
   },
   "outputs": [
    {
     "ename": "ERROR",
     "evalue": "Error in parse(text = input): <text>:1:8: unexpected symbol\n1: import Latex\n           ^\n",
     "output_type": "error",
     "traceback": [
      "Error in parse(text = input): <text>:1:8: unexpected symbol\n1: import Latex\n           ^\nTraceback:\n"
     ]
    }
   ],
   "source": [
    "lambda <- 4  # rate of arrival per hour\n",
    "n_simulations <- 10000  # number of simulations\n",
    "delta_t <- 0.01  # small time step in minutes\n",
    "time_since_last_customer <- 10 # 10 minutes have already passed\n",
    "customers <- c()\n",
    "\n",
    "simulate_next_customer <- function(lambda, delta_t, time_since_last_customer) {\n",
    "  time <- 0\n",
    "  lambda_minute <- lambda / 60\n",
    "  arrival_probability <- lambda_minute * delta_t\n",
    "  \n",
    "  repeat {\n",
    "    probability <- runif(1)\n",
    "    if (probability < arrival_probability) {\n",
    "      break\n",
    "    }\n",
    "    time <- time + delta_t\n",
    "  }\n",
    "  if (time > time_since_last_customer) {\n",
    "    return(time)\n",
    "  } else {\n",
    "    simulate_next_customer(lambda, delta_t, time_since_last_customer) #10000 acceptable simulations\n",
    "  }\n",
    "}\n",
    "\n",
    "for (i in 1:n_simulations) {\n",
    "  customer_time <- simulate_next_customer(lambda, delta_t, time_since_last_customer)\n",
    "  if (!is.na(customer_time)) {\n",
    "    customers <- c(customers, customer_time)\n",
    "  }\n",
    "}\n",
    "\n",
    "hist(customers, \n",
    "     breaks = 70,\n",
    "     main = \"Histogram of Customer Arrival Times\", \n",
    "     xlab = \"Minutes After Last Customer\", \n",
    "     ylab = \"Frequency\", \n",
    "     col = \"lightblue\", \n",
    "     border = \"black\")\n"
   ]
  },
  {
   "cell_type": "markdown",
   "id": "e351e898",
   "metadata": {
    "collapsed": false,
    "id": "e351e898",
    "jupyter": {
     "outputs_hidden": false
    },
    "pycharm": {
     "name": "#%% md\n"
    }
   },
   "source": [
    "<div dir = \"rtl\" style=\"direction:rtl;line-height:250%;\">\n",
    "  <font face=\"XB Zar\" size=5>\n",
    "نمودار را بار دیگر با این فرض رسم کنید که از آمدن آخرین مشتری 30 دقیقه گذشته باشد.\n",
    "</br>\n",
    "\n",
    "\n",
    "</font>\n",
    "</div>"
   ]
  },
  {
   "cell_type": "code",
   "execution_count": 4,
   "id": "75b13a5b",
   "metadata": {
    "id": "75b13a5b",
    "jupyter": {
     "outputs_hidden": false
    },
    "outputId": "8e0cd73e-99c6-4503-c76e-2be5a9e8ee84",
    "pycharm": {
     "name": "#%%\n"
    },
    "vscode": {
     "languageId": "r"
    }
   },
   "outputs": [
    {
     "data": {
      "image/png": "[encoded data removed]",
      "text/plain": [
       "Plot with title “Histogram of Customer Arrival Times”"
      ]
     },
     "metadata": {
      "image/png": {
       "height": 420,
       "width": 420
      }
     },
     "output_type": "display_data"
    }
   ],
   "source": [
    "#TODO\n",
    "time_since_last_customer <- 30 # 10 minutes have already passed\n",
    "customers <- c()\n",
    "for (i in 1:n_simulations) {\n",
    "  customer_time <- simulate_next_customer(lambda, delta_t, time_since_last_customer)\n",
    "  if (!is.na(customer_time)) {\n",
    "    customers <- c(customers, customer_time)\n",
    "  }\n",
    "}\n",
    "hist(customers, \n",
    "     breaks = 70,\n",
    "     main = \"Histogram of Customer Arrival Times\", \n",
    "     xlab = \"Minutes After Last Customer\", \n",
    "     ylab = \"Frequency\", \n",
    "     col = \"lightblue\", \n",
    "     border = \"black\")"
   ]
  },
  {
   "cell_type": "markdown",
   "id": "89f1afa6",
   "metadata": {
    "collapsed": false,
    "id": "89f1afa6",
    "jupyter": {
     "outputs_hidden": false
    },
    "pycharm": {
     "name": "#%% md\n"
    }
   },
   "source": [
    "<div dir = \"rtl\" style=\"direction:rtl;line-height:200%;\">\n",
    "\t<font face=\"XB Zar\" color=#ECC19C size=5>\n",
    "    ب) (۱۰ نمره)"
   ]
  },
  {
   "cell_type": "markdown",
   "id": "82e27880",
   "metadata": {
    "collapsed": false,
    "id": "82e27880",
    "jupyter": {
     "outputs_hidden": false
    },
    "pycharm": {
     "name": "#%% md\n"
    }
   },
   "source": [
    "<div dir = \"rtl\" style=\"direction:rtl;line-height:250%;\">\n",
    "  <font face=\"XB Zar\" size=5>\n",
    "حال فرض کنید از آمدن مشتری قبلی 40 دقیقه گذشته است. توزیع احتمالی زمان آمدن 3 مشتری بعدی را با 10000 بار شبیه سازی بدست آورید و نمودار آن را ترسیم کنید.\n",
    "</font>\n",
    "</div>"
   ]
  },
  {
   "cell_type": "code",
   "execution_count": 34,
   "id": "a1bc650a",
   "metadata": {
    "id": "a1bc650a",
    "jupyter": {
     "outputs_hidden": false
    },
    "outputId": "a5172dbb-f7c9-4938-df1c-f2af7e399716",
    "pycharm": {
     "name": "#%%\n"
    },
    "vscode": {
     "languageId": "r"
    }
   },
   "outputs": [
    {
     "data": {
      "image/png": "[encoded data removed]",
      "text/plain": [
       "Plot with title “Histogram of Customer Arrival Times”"
      ]
     },
     "metadata": {
      "image/png": {
       "height": 420,
       "width": 420
      }
     },
     "output_type": "display_data"
    }
   ],
   "source": [
    "#TODO\n",
    "lambda <- 4  # rate of arrival per hour\n",
    "n_simulations <- 10000  # number of simulations\n",
    "delta_t <- 0.01  # small time step in minutes\n",
    "time_since_last_customer <- 40  # 40 minutes have already passed\n",
    "\n",
    "simulate_next_three_customers <- function(lambda, delta_t, time_since_last_customer) {\n",
    "  lambda_minute <- lambda / 60\n",
    "  times <- numeric(3) # ذخیره زمان ورود سه مشتری بعدی\n",
    "  time_passed <- time_since_last_customer\n",
    "  \n",
    "  for (i in 1:3) {\n",
    "    while (TRUE) {\n",
    "      if (runif(1) < lambda_minute * delta_t) {\n",
    "        times[i] <- time_passed\n",
    "        break\n",
    "      }\n",
    "      time_passed <- time_passed + delta_t\n",
    "    }\n",
    "  }\n",
    "  \n",
    "  return(times)\n",
    "}\n",
    "\n",
    "results <- replicate(n_simulations, {\n",
    "  simulate_next_three_customers(lambda, delta_t, time_since_last_customer)\n",
    "})\n",
    "\n",
    "\n",
    "times_to_third_customer <- results[3, ]\n",
    "\n",
    "hist(times_to_third_customer, \n",
    "     breaks = 50,\n",
    "     main = \"Histogram of Customer Arrival Times\", \n",
    "     xlab = \"Minutes After Last Customer\", \n",
    "     ylab = \"Frequency\", \n",
    "     col = \"lightblue\", \n",
    "     border = \"black\")"
   ]
  },
  {
   "cell_type": "markdown",
   "id": "970e10c2",
   "metadata": {
    "collapsed": false,
    "id": "970e10c2",
    "jupyter": {
     "outputs_hidden": false
    },
    "pycharm": {
     "name": "#%% md\n"
    }
   },
   "source": [
    "<div dir = \"rtl\" style=\"direction:rtl;line-height:200%;\">\n",
    "\t<font face=\"XB Zar\" color=#ECC19C size=5>\n",
    "    پ) (۱۰ نمره)"
   ]
  },
  {
   "cell_type": "markdown",
   "id": "6e7e8843",
   "metadata": {
    "collapsed": false,
    "id": "6e7e8843",
    "jupyter": {
     "outputs_hidden": false
    },
    "pycharm": {
     "name": "#%% md\n"
    }
   },
   "source": [
    "<div dir = \"rtl\" style=\"direction:rtl;line-height:250%;\">\n",
    "  <font face=\"XB Zar\" size=5>\n",
    "حال فرض کنید فاصله زمانی بین دو مشتری متوالی از توزیع نمایی با پارامتر 4 پیروی کند. بار دیگر فرض کنید ده دقیقه از آمدن آخرین مشتری می گذرد. توزیع احتمالی آمدن مشتری بعدی را با 10000 شبیه سازی بدست آورید و نمودار آن را رسم کنید.\n",
    "</font>\n",
    "</div>"
   ]
  },
  {
   "cell_type": "code",
   "execution_count": 40,
   "id": "f0d55e86",
   "metadata": {
    "id": "f0d55e86",
    "jupyter": {
     "outputs_hidden": false
    },
    "outputId": "fd0d2c7e-7a3a-4c0b-ceba-05f21799e5df",
    "pycharm": {
     "name": "#%%\n"
    },
    "vscode": {
     "languageId": "r"
    }
   },
   "outputs": [
    {
     "data": {
      "image/png": "[encoded data removed]",
      "text/plain": [
       "Plot with title “Histogram of Customer Arrival Times”"
      ]
     },
     "metadata": {
      "image/png": {
       "height": 420,
       "width": 420
      }
     },
     "output_type": "display_data"
    }
   ],
   "source": [
    "#TODO\n",
    "lambda <- 4  # rate of arrival per hour\n",
    "n_simulations <- 10000  # number of simulations\n",
    "time_since_last_customer <- 10 # 10 minutes have already passed\n",
    "\n",
    "\n",
    "simulate_next_customer_expo <- function(lambda, time_since_last_customer, n_simulations) {\n",
    "  lambda_minute <- lambda / 60\n",
    "  simulated_times <- rexp(n_simulations, rate = lambda_minute)\n",
    "  next_times <- simulated_times + time_since_last_customer\n",
    "  return(next_times)\n",
    "}\n",
    "next_customer_times <- simulate_next_customer_expo(lambda, time_since_last_customer, n_simulations)\n",
    "hist(next_customer_times, \n",
    "     breaks = 75,\n",
    "     main = \"Histogram of Customer Arrival Times\", \n",
    "     xlab = \"Minutes After Last Customer\", \n",
    "     ylab = \"Frequency\", \n",
    "     col = \"lightblue\", \n",
    "     border = \"black\")"
   ]
  },
  {
   "cell_type": "markdown",
   "id": "3cccb472",
   "metadata": {
    "collapsed": false,
    "id": "3cccb472",
    "jupyter": {
     "outputs_hidden": false
    },
    "pycharm": {
     "name": "#%% md\n"
    }
   },
   "source": [
    "<div dir = \"rtl\" style=\"direction:rtl;line-height:200%;\">\n",
    "\t<font face=\"XB Zar\" color=#ECC19C size=5>\n",
    "    ت) (۱۰ نمره)"
   ]
  },
  {
   "cell_type": "markdown",
   "id": "8951b572",
   "metadata": {
    "collapsed": false,
    "id": "8951b572",
    "jupyter": {
     "outputs_hidden": false
    },
    "pycharm": {
     "name": "#%% md\n"
    }
   },
   "source": [
    "<div dir = \"rtl\" style=\"direction:rtl;line-height:250%;\">\n",
    "  <font face=\"XB Zar\" size=5>\n",
    "با توجه به نتایج به دست آمده توضیح دهید که نمودار های بخش الف چه تفاوتی نسبت به هم دارند.\n",
    "</font>\n",
    "</div>"
   ]
  },
  {
   "cell_type": "markdown",
   "id": "48cdaad1",
   "metadata": {
    "collapsed": false,
    "id": "48cdaad1",
    "jupyter": {
     "outputs_hidden": false
    },
    "pycharm": {
     "name": "#%% md\n"
    }
   },
   "source": [
    "<div dir = \"rtl\" style=\"direction:rtl;line-height:250%;\">\n",
    "  <font face=\"XB Zar\" size=5 color=purple>\n",
    "     💥جواب شما:\n",
    "  </font>\n",
    "\n",
    "<div dir = \"rtl\" style=\"direction:rtl;line-height:200%;\">\n",
    "\t<font face=\"XB Zar\" color=#EE5533 size=3>\n",
    "  --\n",
    "  زمان های دورتر از ۱۰ در نمودار اول احتمال کمتری نسبت به زمان های دورتر نسبت به ۳۰ دارند که به دلیل خاصیت نمایی پوآسون و بی حافظه بوذن آن است.\n",
    "  همچنین مرکز توزیع در ۱۰ دقیقه به ده نزدیک تر و در ۳۰ دقیقه به ۳۰ نزدیک تر است.\n",
    "  طبق نمودار میتوان گفت هر چه زمان سپری شده از ورود آخرین مشتری بیشتر باشد، توزیع احتمال ورود مشتری بعدی به زمان های طولانی تر متمایل می‌شود.\n",
    "    --"
   ]
  },
  {
   "cell_type": "markdown",
   "id": "e64633eb",
   "metadata": {
    "collapsed": false,
    "id": "e64633eb",
    "jupyter": {
     "outputs_hidden": false
    },
    "pycharm": {
     "name": "#%% md\n"
    }
   },
   "source": [
    "<div dir = \"rtl\" style=\"direction:rtl;line-height:250%;\">\n",
    "  <font face=\"XB Zar\" size=5>\n",
    " مشخص کنید مسئله ی قسمت الف از چه توزیعی پیروی می کند و پارامترهای آن را بدست آورده و چاپ کنید. ادعای خود را توجیه کنید.\n",
    "  </font>\n",
    "</div>"
   ]
  },
  {
   "cell_type": "code",
   "execution_count": 43,
   "id": "455a0ada",
   "metadata": {
    "id": "455a0ada",
    "jupyter": {
     "outputs_hidden": false
    },
    "outputId": "6b648af7-3d99-4506-a658-a635acf707d8",
    "pycharm": {
     "name": "#%%\n"
    },
    "vscode": {
     "languageId": "r"
    }
   },
   "outputs": [
    {
     "name": "stdout",
     "output_type": "stream",
     "text": [
      "[1] 3.966475\n"
     ]
    }
   ],
   "source": [
    "#TODO\n",
    "inter_arrival_times <- rexp(n_simulations, rate = lambda)\n",
    "lambda_estimated <- 1 / mean(inter_arrival_times)\n",
    "print(lambda_estimated)"
   ]
  },
  {
   "cell_type": "markdown",
   "id": "f6476a41",
   "metadata": {
    "collapsed": false,
    "id": "f6476a41",
    "jupyter": {
     "outputs_hidden": false
    },
    "pycharm": {
     "name": "#%% md\n"
    }
   },
   "source": [
    "<div dir = \"rtl\" style=\"direction:rtl;line-height:250%;\">\n",
    "  <font face=\"XB Zar\" size=5 color=purple>\n",
    "     💥جواب شما:\n",
    "  </font>\n",
    "\n",
    "<div dir = \"rtl\" style=\"direction:rtl;line-height:200%;\">\n",
    "\t<font face=\"XB Zar\" color=#EE5533 size=3>\n",
    "  --\n",
    "    از توزیع نمایی با پارامتر ۴ پیروی می‌کند زیرا ورود مشتری ها در بازه های زمانی مستقل با نرخ ثابت است که ویژگی اصلی فرایند پوآسون است که از توزیع نمایی پیروی میکند\n",
    "    می‌دانیم میانگین توزیع نمایی از $\\frac{1}{\\lambda}$ می‌باشد. پس پس از حساب کردن میانگین می‌توان پارامتر توزیع نمایی را تخمین زد\n",
    "    --"
   ]
  },
  {
   "cell_type": "markdown",
   "id": "487a8d81",
   "metadata": {
    "collapsed": false,
    "id": "487a8d81",
    "jupyter": {
     "outputs_hidden": false
    },
    "pycharm": {
     "name": "#%% md\n"
    }
   },
   "source": [
    "<div dir = \"rtl\" style=\"direction:rtl;line-height:250%;\">\n",
    "  <font face=\"XB Zar\" size=5>\n",
    "\n",
    "### توزیع گاما\n",
    "\n",
    "  </font>\n",
    "</div>\n",
    "\n",
    "<div dir = \"rtl\" style=\"direction:rtl;line-height:250%;\">\n",
    "  <font face=\"XB Zar\" size=5>\n",
    "پس دانستیم در یک فرایند پوآسون فاصله ی بین رویداد های متوالی از توزیع نمایی پیروی می کند.\n",
    "  </font>\n",
    "</div>\n",
    "<br>\n",
    "<div dir = \"rtl\" style=\"direction:rtl;line-height:250%;\">\n",
    "  <font face=\"XB Zar\" size=5>\n",
    "توزیع گاما برای مدل سازی زمان رخ دادن رویداد k ام در یک فرایند پوآسون استفاده می شود و دارای تابع چگالی احتمال زیر است:\n",
    "  </font>\n",
    "</div>\n",
    "\n",
    "<font face=\"XB Zar\" size=6>\n",
    "    \n",
    "$$\n",
    "f(x; k, \\theta) = \\frac{x^{k-1} e^{-x/\\theta}}{\\theta^k \\Gamma(k)}, \\quad x > 0\n",
    "$$\n",
    "$$\n",
    "$$\n",
    "</font>\n",
    "\n",
    "<div dir = \"rtl\" style=\"direction:rtl;line-height:250%;\">\n",
    "  <font face=\"XB Zar\" size=5>\n",
    "که در آن:\n",
    "  </font>\n",
    "</div>\n",
    "\n",
    "\n",
    "<div dir = \"rtl\" style=\"direction:rtl;line-height:250%;\">\n",
    "  <font face=\"XB Zar\" size=5>\n",
    "\n",
    "-   k\n",
    "تعداد رویدادها (پارامتر شکل)\n",
    "-  $\\theta$\n",
    "میانگین فاصله بین رویدادها (پارامتر مقیاس)\n",
    "-  $\\Gamma(k)$\n",
    "تابع گاما است که برای \\(k\\) عدد صحیح برابر با \\((k-1)!\\) می‌باشد.\n",
    "\n",
    "\n"
   ]
  },
  {
   "cell_type": "markdown",
   "id": "11454183",
   "metadata": {
    "collapsed": false,
    "id": "11454183",
    "jupyter": {
     "outputs_hidden": false
    },
    "pycharm": {
     "name": "#%% md\n"
    }
   },
   "source": [
    "<div dir = \"rtl\" style=\"direction:rtl;line-height:250%;\">\n",
    "  <font face=\"XB Zar\" size=5>\n",
    "نشان بدهید که فرمول گاما به ازای k = 3 برابر با جمع چند متغیر تصادفی exp است.\n",
    "  </font>\n",
    "</div>"
   ]
  },
  {
   "cell_type": "markdown",
   "id": "cfc47a9c",
   "metadata": {
    "collapsed": false,
    "id": "cfc47a9c",
    "jupyter": {
     "outputs_hidden": false
    },
    "pycharm": {
     "name": "#%% md\n"
    }
   },
   "source": [
    "<div dir = \"rtl\" style=\"direction:rtl;line-height:250%;\">\n",
    "  <font face=\"XB Zar\" size=5 color=purple>\n",
    "     💥جواب شما:\n",
    "  </font>\n",
    "\n",
    "<div dir = \"rtl\" style=\"direction:rtl;line-height:200%;\">\n",
    "\t<font face=\"XB Zar\" color=#EE5533 size=3>\n",
    "  --\n",
    "    پاسخ در این مکان نوشته شود\n",
    "    --"
   ]
  },
  {
   "cell_type": "markdown",
   "id": "8b38c20e",
   "metadata": {
    "collapsed": false,
    "id": "8b38c20e",
    "jupyter": {
     "outputs_hidden": false
    },
    "pycharm": {
     "name": "#%% md\n"
    }
   },
   "source": [
    "<div dir = \"rtl\" style=\"direction:rtl;line-height:200%;\">\n",
    "\t<font face=\"XB Zar\" color=#ECC19C size=5>\n",
    "    ث) (۱۰ نمره)"
   ]
  },
  {
   "cell_type": "markdown",
   "id": "0e2d7832",
   "metadata": {
    "collapsed": false,
    "id": "0e2d7832",
    "jupyter": {
     "outputs_hidden": false
    },
    "pycharm": {
     "name": "#%% md\n"
    }
   },
   "source": [
    "<div dir = \"rtl\" style=\"direction:rtl;line-height:250%;\">\n",
    "  <font face=\"XB Zar\" size=5>\n",
    "قسمت ب را بار دیگر به وسیله توزیع گاما شبیه سازی کنید و نمودار آن را رسم کنید.\n",
    "  </font>\n",
    "</div>"
   ]
  },
  {
   "cell_type": "code",
   "execution_count": null,
   "id": "12db4567",
   "metadata": {
    "id": "12db4567",
    "jupyter": {
     "outputs_hidden": false
    },
    "outputId": "8f3d41b5-206b-4509-bf33-c10cb16a4c8f",
    "pycharm": {
     "name": "#%%\n"
    },
    "vscode": {
     "languageId": "r"
    }
   },
   "outputs": [
    {
     "data": {
      "image/png": "[encoded data removed]",
      "text/plain": [
       "Plot with title \"Gamma Distribution (k=3, lambda=4)\""
      ]
     },
     "metadata": {
      "image/png": {
       "height": 420,
       "width": 420
      }
     },
     "output_type": "display_data"
    }
   ],
   "source": [
    "#TODO\n",
    "k <- 3  # shape (number of events)\n",
    "lambda <- 4  # rate\n"
   ]
  },
  {
   "cell_type": "markdown",
   "id": "3471de36",
   "metadata": {
    "collapsed": false,
    "id": "3471de36",
    "jupyter": {
     "outputs_hidden": false
    },
    "pycharm": {
     "name": "#%% md\n"
    }
   },
   "source": [
    "<div dir = \"rtl\" style=\"direction:rtl;line-height:200%;\">\n",
    "\t<font face=\"XB Zar\" color=#ECC19C size=5>\n",
    "    ج) (۱۰ نمره)"
   ]
  },
  {
   "cell_type": "markdown",
   "id": "7bc9d67d",
   "metadata": {
    "collapsed": false,
    "id": "7bc9d67d",
    "jupyter": {
     "outputs_hidden": false
    },
    "pycharm": {
     "name": "#%% md\n"
    }
   },
   "source": [
    "<div dir = \"rtl\" style=\"direction:rtl;line-height:250%;\">\n",
    "  <font face=\"XB Zar\" size=5>\n",
    "در این قسمت می خواهیم فرایند پوآسون معرفی شده را به وسیله توزیع چند جمله ای تخمین بزنیم.\n",
    "  </font>\n",
    "</div>\n",
    "\n",
    "<div dir = \"rtl\" style=\"direction:rtl;line-height:250%;\">\n",
    "  <font face=\"XB Zar\" size=5>\n",
    "فرض کنید می خواهیم تعداد ورود مشتری ها در بازه زمانی T را بدست آوریم. برای این کار مراحل زیر را طی می کنیم:\n",
    "<br>\n",
    "      \n",
    "- طول بازه ی T را به چندین زیر بازه تقسیم می کنیم که طول هرکدام برابر است با\n",
    "$\\mathbb{\\Delta}{t}=\\frac{T}{n}$\n",
    "- احتمال رخ دادن یک رویداد در یک بازه را مانند زیر در نظر بگیرید:\n",
    "$\\mathbb{p}={\\lambda}{\\Delta}{t}$\n",
    "  </font>\n",
    "</div>\n",
    "\n",
    "<div dir = \"rtl\" style=\"direction:rtl;line-height:250%;\">\n",
    "  <font face=\"XB Zar\" size=5>\n",
    "حال تعداد کل رویداد ها در بازه ی زمانی T از یک توزیع چند جمله ای پیروی می کند."
   ]
  },
  {
   "cell_type": "markdown",
   "id": "8fc164a2",
   "metadata": {
    "collapsed": false,
    "id": "8fc164a2",
    "jupyter": {
     "outputs_hidden": false
    },
    "pycharm": {
     "name": "#%% md\n"
    }
   },
   "source": [
    "<div dir = \"rtl\" style=\"direction:rtl;line-height:250%;\">\n",
    "  <font face=\"XB Zar\" size=5>\n",
    " ابتدا نمودار تابع چگالی احتمال توزیع پوآسون با پارامتر لاندا برابر با 4 (بر واحد دقیقه) در یک بازه ی زمانی 10 دقیقه ای را رسم کنید سپس این توزیع را با توزیع چند جمله ای به\n",
    " ازای n برابر با 50 و 500 و 5000 و 50000 تقریب بزنید\n",
    " از نتایج به دست آمده چه برداشتی می کنید؟ دلایل شما برای این برداشت چیست؟"
   ]
  },
  {
   "cell_type": "markdown",
   "id": "7939bced-e212-4b25-bb34-0d632e21df7e",
   "metadata": {
    "id": "7939bced-e212-4b25-bb34-0d632e21df7e"
   },
   "source": [
    "<div dir = \"rtl\" style=\"direction:rtl;line-height:250%;\">\n",
    "  <font face=\"XB Zar\" size=5 color=purple>\n",
    "     💥جواب شما:\n",
    "  </font>\n",
    "\n",
    "<div dir = \"rtl\" style=\"direction:rtl;line-height:200%;\">\n",
    "\t<font face=\"XB Zar\" color=#EE5533 size=3>\n",
    "  --\n",
    "    پاسخ در این مکان نوشته شود\n",
    "    --"
   ]
  },
  {
   "cell_type": "markdown",
   "id": "ce0bc09f",
   "metadata": {
    "collapsed": false,
    "id": "ce0bc09f",
    "jupyter": {
     "outputs_hidden": false
    },
    "pycharm": {
     "name": "#%% md\n"
    }
   },
   "source": [
    "<div dir = \"rtl\" style=\"direction:rtl;line-height:200%;\">\n",
    "\t<font face=\"XB Zar\" color=#ECC19C size=5>\n",
    "    ث) (۱۰ نمره)"
   ]
  },
  {
   "cell_type": "markdown",
   "id": "b2514da6",
   "metadata": {
    "collapsed": false,
    "id": "b2514da6",
    "jupyter": {
     "outputs_hidden": false
    },
    "pycharm": {
     "name": "#%% md\n"
    }
   },
   "source": [
    "<div dir = \"rtl\" style=\"direction:rtl;line-height:250%;\">\n",
    "  <font face=\"XB Zar\" size=5>\n",
    "قسمت ب را بار دیگر به وسیله توزیع گاما شبیه سازی کنید و نمودار آن را رسم کنید.\n",
    "  </font>\n",
    "</div>"
   ]
  },
  {
   "cell_type": "code",
   "execution_count": null,
   "id": "10fbf62f",
   "metadata": {
    "id": "10fbf62f",
    "jupyter": {
     "outputs_hidden": false
    },
    "outputId": "6e65f880-5014-47e7-b2dd-c886f46af17f",
    "pycharm": {
     "name": "#%%\n"
    },
    "vscode": {
     "languageId": "r"
    }
   },
   "outputs": [
    {
     "data": {
      "image/png": "[encoded data removed]",
      "text/plain": [
       "Plot with title \"Gamma Distribution (k=3, lambda=4)\""
      ]
     },
     "metadata": {
      "image/png": {
       "height": 420,
       "width": 420
      }
     },
     "output_type": "display_data"
    }
   ],
   "source": [
    "#TODO\n",
    "k <- 3  # shape (number of events)\n",
    "lambda <- 4  # rate\n",
    "\n"
   ]
  },
  {
   "cell_type": "markdown",
   "id": "6998dde4",
   "metadata": {
    "collapsed": false,
    "id": "6998dde4",
    "jupyter": {
     "outputs_hidden": false
    },
    "pycharm": {
     "name": "#%% md\n"
    }
   },
   "source": [
    "<div dir = \"rtl\" style=\"direction:rtl;line-height:200%;\">\n",
    "\t<font face=\"XB Zar\" color=#ECC19C size=5>\n",
    "    ج) (۱۰ نمره)"
   ]
  },
  {
   "cell_type": "markdown",
   "id": "1932c176",
   "metadata": {
    "collapsed": false,
    "id": "1932c176",
    "jupyter": {
     "outputs_hidden": false
    },
    "pycharm": {
     "name": "#%% md\n"
    }
   },
   "source": [
    "<div dir = \"rtl\" style=\"direction:rtl;line-height:250%;\">\n",
    "  <font face=\"XB Zar\" size=5>\n",
    "در این قسمت می خواهیم فرایند پوآسون معرفی شده را به وسیله توزیع چند جمله ای تخمین بزنیم.\n",
    "  </font>\n",
    "</div>\n",
    "\n",
    "<div dir = \"rtl\" style=\"direction:rtl;line-height:250%;\">\n",
    "  <font face=\"XB Zar\" size=5>\n",
    "فرض کنید می خواهیم تعداد ورود مشتری ها در بازه زمانی T را بدست آوریم. برای این کار مراحل زیر را طی می کنیم:\n",
    "<br>\n",
    "      \n",
    "- طول بازه ی T را به چدین زیر بازه تقسیم می کنیم که طول هرکدام برابر است با\n",
    "$\\mathbb{\\Delta}{t}=\\frac{T}{n}$\n",
    "- احتمال رخ دادن یک رویداد در یک بازه را مانند زیر در نظر بگیرید:\n",
    "$\\mathbb{p}={\\lambda}{\\Delta}{t}$\n",
    "  </font>\n",
    "</div>\n",
    "\n",
    "<div dir = \"rtl\" style=\"direction:rtl;line-height:250%;\">\n",
    "  <font face=\"XB Zar\" size=5>\n",
    "حال تعداد کل رویداد ها در بازه ی زمانی T از یک توزیع چند جمله ای پیروی می کند."
   ]
  },
  {
   "cell_type": "markdown",
   "id": "55731b14",
   "metadata": {
    "collapsed": false,
    "id": "55731b14",
    "jupyter": {
     "outputs_hidden": false
    },
    "pycharm": {
     "name": "#%% md\n"
    }
   },
   "source": [
    "<div dir = \"rtl\" style=\"direction:rtl;line-height:250%;\">\n",
    "  <font face=\"XB Zar\" size=5>\n",
    " ابتدا نمودار تابع چگالی احتمال توزیع پوآسون با پارامتر لاندا برابر با 4 (بر واحد دقیقه) در یک بازه ی زمانی 10 دقیقه ای را رسم کنید سپس این توزیع را با توزیع چند جمله ای به\n",
    " ازای n برابر با 50 و 500 و 5000 و 50000 تقریب بزنید\n",
    " از نتایج به دست آمده چه برداشتی می کنید؟ دلایل شما برای این برداشت چیست؟"
   ]
  },
  {
   "cell_type": "code",
   "execution_count": null,
   "id": "db5d19cb",
   "metadata": {
    "id": "db5d19cb",
    "jupyter": {
     "outputs_hidden": false
    },
    "outputId": "5709e08b-0aae-41db-d05e-cba240ba8bb1",
    "pycharm": {
     "name": "#%%\n"
    },
    "vscode": {
     "languageId": "r"
    }
   },
   "outputs": [
    {
     "data": {
      "image/png": "[encoded data removed]",
      "text/plain": [
       "Plot with title \"Poisson Distribution\""
      ]
     },
     "metadata": {
      "image/png": {
       "height": 420,
       "width": 420
      }
     },
     "output_type": "display_data"
    }
   ],
   "source": [
    "#TODO\n",
    "num_of_samples = 10000\n",
    "T = 10\n",
    "lambda = 4\n"
   ]
  },
  {
   "cell_type": "code",
   "execution_count": null,
   "id": "85ab588f",
   "metadata": {
    "id": "85ab588f",
    "jupyter": {
     "outputs_hidden": false
    },
    "outputId": "0c3da0b4-aae3-46fc-ecc2-7fca4c4539fd",
    "pycharm": {
     "name": "#%%\n"
    },
    "vscode": {
     "languageId": "r"
    }
   },
   "outputs": [
    {
     "data": {
      "image/png": "[encoded data removed]",
      "text/plain": [
       "Plot with title \"Binomial Distribution (n= 50 p= 0.8 )\""
      ]
     },
     "metadata": {
      "image/png": {
       "height": 420,
       "width": 420
      }
     },
     "output_type": "display_data"
    },
    {
     "data": {
      "image/png": "[encoded data removed]",
      "text/plain": [
       "Plot with title \"Binomial Distribution (n= 500 p= 0.08 )\""
      ]
     },
     "metadata": {
      "image/png": {
       "height": 420,
       "width": 420
      }
     },
     "output_type": "display_data"
    },
    {
     "data": {
      "image/png": "[encoded data removed]",
      "text/plain": [
       "Plot with title \"Binomial Distribution (n= 5000 p= 0.008 )\""
      ]
     },
     "metadata": {
      "image/png": {
       "height": 420,
       "width": 420
      }
     },
     "output_type": "display_data"
    },
    {
     "data": {
      "image/png": "[encoded data removed]",
      "text/plain": [
       "Plot with title \"Binomial Distribution (n= 50000 p= 8e-04 )\""
      ]
     },
     "metadata": {
      "image/png": {
       "height": 420,
       "width": 420
      }
     },
     "output_type": "display_data"
    }
   ],
   "source": [
    "#TODO plot binomials"
   ]
  },
  {
   "cell_type": "markdown",
   "id": "8b675ee7-6b3b-4561-bd92-606e6a4d6a05",
   "metadata": {
    "id": "8b675ee7-6b3b-4561-bd92-606e6a4d6a05",
    "vscode": {
     "languageId": "r"
    }
   },
   "source": [
    "<div dir = \"rtl\" style=\"direction:rtl;line-height:250%;\">\n",
    "  <font face=\"XB Zar\" size=5 color=purple>\n",
    "     💥جواب شما:\n",
    "  </font>\n",
    "\n",
    "<div dir = \"rtl\" style=\"direction:rtl;line-height:200%;\">\n",
    "\t<font face=\"XB Zar\" color=#EE5533 size=3>\n",
    "  --\n",
    "    پاسخ در این مکان نوشته شود\n",
    "    --"
   ]
  }
 ],
 "metadata": {
  "colab": {
   "provenance": [],
   "toc_visible": true
  },
  "kernelspec": {
   "display_name": "R",
   "language": "R",
   "name": "ir"
  },
  "language_info": {
   "codemirror_mode": "r",
   "file_extension": ".r",
   "mimetype": "text/x-r-source",
   "name": "R",
   "pygments_lexer": "r",
   "version": "4.4.2"
  }
 },
 "nbformat": 4,
 "nbformat_minor": 5
}
